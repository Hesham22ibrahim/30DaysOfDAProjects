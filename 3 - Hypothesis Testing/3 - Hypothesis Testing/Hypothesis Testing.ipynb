{
 "cells": [
  {
   "cell_type": "markdown",
   "id": "c3090499",
   "metadata": {},
   "source": [
    "# Hypothesis Testing: Unveiling Hidden Truths in Your Data\n",
    "\n",
    "In the world of data analysis, hypothesis testing is a powerful tool used to make informed decisions about entire populations (like all your customers) based on the data we collect from a smaller sample. It works by setting up two competing theories:\n",
    "\n",
    "- The Null Hypothesis (H0): This is the \"business as usual\" scenario, assuming there's no significant effect or relationship between the variables we're studying.\n",
    "- The Alternative Hypothesis (H1): This is what we're actually interested in – the theory we want to prove or disprove using the data.\n",
    "\n",
    "By analyzing sample data, we can assess the likelihood of observing the results we have if the null hypothesis were true. If this probability falls below a certain threshold (typically 5%), we can reject the null hypothesis and conclude that there's likely a real effect or relationship at play, supporting our alternative hypothesis.\n",
    "\n",
    "**Focus Here:** This approach allows us to move beyond assumptions and base our decisions on statistically significant evidence within the data itself."
   ]
  },
  {
   "cell_type": "markdown",
   "id": "27207184",
   "metadata": {},
   "source": [
    "Hypothesis testing empowers data analysts to make data-driven decisions about entire populations. By analyzing a smaller, representative sample, we can infer trends and relationships that hold true for the larger group.\n",
    "\n",
    "This structured approach follows a clear path:\n",
    "\n",
    "1. Gather Data: We collect relevant data for the hypothesis.\n",
    "2. Formulate Hypotheses: We define opposing null (H0) and alternative (H1) hypotheses.\n",
    "3. Set Significance Level: We establish the acceptable risk of rejecting a true null hypothesis (α).\n",
    "4. Choose the Right Test: We select the appropriate statistical test based on data type and research question.\n",
    "5. Run the Test: We apply the chosen test to our data.\n",
    "6. Interpret the P-Value: The p-value tells us the likelihood of observing the data if the null hypothesis were true. A low p-value suggests rejecting H0 and supporting H1.\n",
    "Equipped with a well-defined plan and the right data, we're ready to delve into the analysis and unlock the hidden truths within our sample.\n",
    "\n",
    "To get started with Hypothesis Testing, we need appropriate data. I found an ideal dataset for this task. You can download the dataset from [here](https://statso.io/light-theme-and-dark-theme-case-study/)."
   ]
  },
  {
   "cell_type": "markdown",
   "id": "8edc6630",
   "metadata": {},
   "source": [
    "#### Hypothesis Testing using Python\n",
    "Now, let’s get started with the task of Hypothesis Testing by importing the necessary Python libraries and the dataset:"
   ]
  },
  {
   "cell_type": "code",
   "execution_count": 1,
   "id": "f5046baf",
   "metadata": {},
   "outputs": [
    {
     "name": "stdout",
     "output_type": "stream",
     "text": [
      "         Theme  Click Through Rate  Conversion Rate  Bounce Rate  \\\n",
      "0  Light Theme            0.054920         0.282367     0.405085   \n",
      "1  Light Theme            0.113932         0.032973     0.732759   \n",
      "2   Dark Theme            0.323352         0.178763     0.296543   \n",
      "3  Light Theme            0.485836         0.325225     0.245001   \n",
      "4  Light Theme            0.034783         0.196766     0.765100   \n",
      "\n",
      "   Scroll_Depth  Age   Location  Session_Duration Purchases Added_to_Cart  \n",
      "0     72.489458   25    Chennai              1535        No           Yes  \n",
      "1     61.858568   19       Pune               303        No           Yes  \n",
      "2     45.737376   47    Chennai               563       Yes           Yes  \n",
      "3     76.305298   58       Pune               385       Yes            No  \n",
      "4     48.927407   25  New Delhi              1437        No            No  \n"
     ]
    }
   ],
   "source": [
    "import pandas as pd\n",
    "from scipy.stats import ttest_ind\n",
    "\n",
    "df = pd.read_csv(\"website_ab_test.csv\")\n",
    "\n",
    "print(df.head())"
   ]
  },
  {
   "cell_type": "markdown",
   "id": "c54c39f9",
   "metadata": {},
   "source": [
    "Our website aims to optimize user experience, and a key factor is theme design. To determine which of two themes (Theme A vs. Theme B) performs better, we'll leverage hypothesis testing.\n",
    "\n",
    "This initial step involves examining the dataset we have at hand. Let's delve into the data summary:\n",
    "\n",
    "Record Count, Missing Values, and Numerical Statistics of the colunms\n",
    "By analyzing these data characteristics, we can establish a solid foundation for formulating our hypotheses and selecting the appropriate statistical test for our website theme performance evaluation."
   ]
  },
  {
   "cell_type": "code",
   "execution_count": 2,
   "id": "cb6783d1",
   "metadata": {},
   "outputs": [
    {
     "data": {
      "text/plain": [
       "{'Number of Records': 1000,\n",
       " 'Number of Columns': 10,\n",
       " 'Missing Values': Theme                 0\n",
       " Click Through Rate    0\n",
       " Conversion Rate       0\n",
       " Bounce Rate           0\n",
       " Scroll_Depth          0\n",
       " Age                   0\n",
       " Location              0\n",
       " Session_Duration      0\n",
       " Purchases             0\n",
       " Added_to_Cart         0\n",
       " dtype: int64,\n",
       " 'Numerical Columns Summary':        Click Through Rate  Conversion Rate  Bounce Rate  Scroll_Depth  \\\n",
       " count         1000.000000      1000.000000  1000.000000   1000.000000   \n",
       " mean             0.256048         0.253312     0.505758     50.319494   \n",
       " std              0.139265         0.139092     0.172195     16.895269   \n",
       " min              0.010767         0.010881     0.200720     20.011738   \n",
       " 25%              0.140794         0.131564     0.353609     35.655167   \n",
       " 50%              0.253715         0.252823     0.514049     51.130712   \n",
       " 75%              0.370674         0.373040     0.648557     64.666258   \n",
       " max              0.499989         0.498916     0.799658     79.997108   \n",
       " \n",
       "                Age  Session_Duration  \n",
       " count  1000.000000       1000.000000  \n",
       " mean     41.528000        924.999000  \n",
       " std      14.114334        508.231723  \n",
       " min      18.000000         38.000000  \n",
       " 25%      29.000000        466.500000  \n",
       " 50%      42.000000        931.000000  \n",
       " 75%      54.000000       1375.250000  \n",
       " max      65.000000       1797.000000  }"
      ]
     },
     "execution_count": 2,
     "metadata": {},
     "output_type": "execute_result"
    }
   ],
   "source": [
    "# dataset summary\n",
    "summary = {\n",
    "    'Number of Records': df.shape[0],\n",
    "    'Number of Columns': df.shape[1],\n",
    "    'Missing Values': df.isnull().sum(),\n",
    "    'Numerical Columns Summary': df.describe()\n",
    "}\n",
    "\n",
    "summary"
   ]
  },
  {
   "cell_type": "markdown",
   "id": "725c96a7",
   "metadata": {},
   "source": [
    "The dataset contains 1,000 records across 10 columns, with no missing values. Here’s a quick summary of the numerical columns:\n",
    "\n",
    "- **Click Through Rate:** Ranges from about 0.01 to 0.50 with a mean of approximately 0.26.\n",
    "- **Conversion Rate:** Also ranges from about 0.01 to 0.50 with a mean close to the Click Through Rate, approximately 0.25.\n",
    "- **Bounce Rate:** Varies between 0.20 and 0.80, with a mean around 0.51.\n",
    "- **Scroll Depth:** Shows a spread from 20.01 to nearly 80, with a mean of 50.32.\n",
    "- **Age:** The age of users ranges from 18 to 65 years, with a mean age of about 41.5 years.\n",
    "- **Session Duration:** This varies widely from 38 seconds to nearly 1800 seconds (30 minutes), with a mean session duration of approximately 925 seconds (about 15 minutes). "
   ]
  },
  {
   "cell_type": "markdown",
   "id": "d426ea61",
   "metadata": {},
   "source": [
    "Now, Let's head to comparing both themes perfromance using the provided metrics. We shall exmine the average Click Through Rate, Conversion Rate, Bounce Rate, and other relevant metrics for each theme. Following that, we can perform hypothesis testing to identify if there’s a statistically significant difference between the themes "
   ]
  },
  {
   "cell_type": "code",
   "execution_count": 3,
   "id": "1ded16c4",
   "metadata": {},
   "outputs": [
    {
     "name": "stdout",
     "output_type": "stream",
     "text": [
      "             Click Through Rate  Conversion Rate  Bounce Rate  Scroll_Depth  \\\n",
      "Theme                                                                         \n",
      "Light Theme            0.247109         0.255459     0.499035     50.735232   \n",
      "Dark Theme             0.264501         0.251282     0.512115     49.926404   \n",
      "\n",
      "                   Age  Session_Duration  \n",
      "Theme                                     \n",
      "Light Theme  41.734568        930.833333  \n",
      "Dark Theme   41.332685        919.482490  \n"
     ]
    },
    {
     "name": "stderr",
     "output_type": "stream",
     "text": [
      "C:\\Users\\Sroor For Laptop\\AppData\\Local\\Temp\\ipykernel_21020\\2531333806.py:2: FutureWarning: The default value of numeric_only in DataFrameGroupBy.mean is deprecated. In a future version, numeric_only will default to False. Either specify numeric_only or select only columns which should be valid for the function.\n",
      "  theme_performance = df.groupby('Theme').mean()\n"
     ]
    }
   ],
   "source": [
    "# grouping data by theme and calculating mean values for the metrics\n",
    "theme_performance = df.groupby('Theme').mean()\n",
    "\n",
    "# sorting the data by conversion rate for a better comparison\n",
    "theme_performance_sorted = theme_performance.sort_values(by='Conversion Rate', ascending=False)\n",
    "\n",
    "print(theme_performance_sorted)"
   ]
  },
  {
   "cell_type": "markdown",
   "id": "ed7ed1a9",
   "metadata": {},
   "source": [
    "The comparison between the Light Theme and Dark Theme on average performance metrics reveals the following insights:\n",
    "\n",
    "- **Click Through Rate (CTR):** The Dark Theme has a slightly higher average CTR (0.2645) compared to the Light Theme (0.2471).\n",
    "- **Conversion Rate:** The Light Theme leads with a marginally higher average Conversion Rate (0.2555) compared to the Dark Theme (0.2513).\n",
    "- **Bounce Rate:** The Bounce Rate is slightly higher for the Dark Theme (0.5121) than for the Light Theme (0.4990).\n",
    "- **Scroll Depth:** Users on the Light Theme scroll slightly further on average (50.74%) compared to those on the Dark Theme (49.93%).\n",
    "- **Age:** The average age of users is similar across themes, with the Light Theme at approximately 41.73 years and the Dark Theme at 41.33 years.\n",
    "- **Session Duration:** The average session duration is slightly longer for users on the Light Theme (930.83 seconds) than for those on the Dark Theme (919.48 seconds)."
   ]
  },
  {
   "cell_type": "markdown",
   "id": "ef4779a9",
   "metadata": {},
   "source": [
    "Based on these insight, The Light Theme appears to slightly outproforms the Dark Theme when it comes to Conversion Rate, Bounce Rate, Scroll Depth, and Session Duration. On the other hand, the Dark Theme leads in Click Through Rate. It is clear that the difference are relatively minor across all metrics."
   ]
  },
  {
   "cell_type": "markdown",
   "id": "0c385587",
   "metadata": {},
   "source": [
    "#### Getting Started with Hypothesis Testing\n",
    "A significance level (alpha) of 0.05 will be used for the hypothesis testing. This means if the p-value is less than 0.05, The result is considered statistically significant.\n",
    "\n",
    "Let’s start with hypothesis testing based on the Conversion Rate between the Light Theme and Dark Theme. Our hypotheses are as follows:\n",
    "\n",
    "- Null Hypothesis (H0​): There is no difference in Conversion Rates between the Light Theme and Dark Theme.\n",
    "- Alternative Hypothesis (Ha​): There is a difference in Conversion Rates between the Light Theme and Dark Theme.\n",
    "\n",
    "We’ll use a two-sample t-test to compare the means of the two independent samples. Let’s proceed with the test:"
   ]
  },
  {
   "cell_type": "code",
   "execution_count": 4,
   "id": "5007f127",
   "metadata": {},
   "outputs": [
    {
     "data": {
      "text/plain": [
       "(0.4748494462782632, 0.6349982678451778)"
      ]
     },
     "execution_count": 4,
     "metadata": {},
     "output_type": "execute_result"
    }
   ],
   "source": [
    "# extracting conversion rates for both themes\n",
    "conversion_rates_light = df[df['Theme'] == 'Light Theme']['Conversion Rate']\n",
    "conversion_rates_dark = df[df['Theme'] == 'Dark Theme']['Conversion Rate']\n",
    "\n",
    "# performing a two-sample t-test\n",
    "t_stat, p_value = ttest_ind(conversion_rates_light, conversion_rates_dark, equal_var=False)\n",
    "\n",
    "t_stat, p_value"
   ]
  },
  {
   "cell_type": "markdown",
   "id": "021c3d7b",
   "metadata": {},
   "source": [
    "The two-sample t-test results in p-value of 0.635 which is much greater than the significance level of 0.05. We do not have enough evidence to reject the null hypothesis. Hence, we conclude that there is no statistically significant difference in Conversion Rates between the Light Theme and Dark Theme based on the data provided."
   ]
  },
  {
   "cell_type": "markdown",
   "id": "2bfa704d",
   "metadata": {},
   "source": [
    "Now, let’s move to conduct hypothesis testing based on the Click Through Rate (CTR) to see wheather there’s a statistically significant difference between the Light Theme and Dark Theme regarding how often users click through. Our hypotheses remain structured similarly:\n",
    "\n",
    "- Null Hypothesis (H0​): There is no difference in Click Through Rates between the Light Theme and Dark Theme.\n",
    "- Alternative Hypothesis (Ha​): There is a difference in Click Rates between the Light Theme and Dark Theme.\n",
    "\n",
    "We’ll perform a two-sample t-test on the CTR for both themes. Let’s proceed with the calculation:"
   ]
  },
  {
   "cell_type": "code",
   "execution_count": 5,
   "id": "857a2340",
   "metadata": {},
   "outputs": [
    {
     "data": {
      "text/plain": [
       "(-1.9781708664172253, 0.04818435371010704)"
      ]
     },
     "execution_count": 5,
     "metadata": {},
     "output_type": "execute_result"
    }
   ],
   "source": [
    "# extracting click through rates for both themes\n",
    "ctr_light = df[df['Theme'] == 'Light Theme']['Click Through Rate']\n",
    "ctr_dark = df[df['Theme'] == 'Dark Theme']['Click Through Rate']\n",
    "\n",
    "# performing a two-sample t-test\n",
    "t_stat_ctr, p_value_ctr = ttest_ind(ctr_light, ctr_dark, equal_var=False)\n",
    "\n",
    "t_stat_ctr, p_value_ctr"
   ]
  },
  {
   "cell_type": "markdown",
   "id": "b7420775",
   "metadata": {},
   "source": [
    "The two-sample t-test for the Click Through Rate (CTR)results in p-value of 0.048 which is slightly less than the significance level of 0.05. Therefore, there is a statistically significant difference in Click Through Rates between the Light Theme and Dark Theme, with the Dark Theme likely having a higher CTR given the direction of the test statistic."
   ]
  },
  {
   "cell_type": "markdown",
   "id": "464dea84",
   "metadata": {},
   "source": [
    "Now, let’s perform Hypothesis Testing based on two other metrics: \n",
    "- bounce rate \n",
    "- scroll depth\n",
    "\n",
    "These two metrics are important metrics for analyzing the performance of a theme or a design on a website. \n",
    "Firstly we perform these statistical tests and then create a table to show the report of all the tests we have done:"
   ]
  },
  {
   "cell_type": "code",
   "execution_count": 6,
   "id": "b27d1234",
   "metadata": {},
   "outputs": [
    {
     "data": {
      "text/html": [
       "<div>\n",
       "<style scoped>\n",
       "    .dataframe tbody tr th:only-of-type {\n",
       "        vertical-align: middle;\n",
       "    }\n",
       "\n",
       "    .dataframe tbody tr th {\n",
       "        vertical-align: top;\n",
       "    }\n",
       "\n",
       "    .dataframe thead th {\n",
       "        text-align: right;\n",
       "    }\n",
       "</style>\n",
       "<table border=\"1\" class=\"dataframe\">\n",
       "  <thead>\n",
       "    <tr style=\"text-align: right;\">\n",
       "      <th></th>\n",
       "      <th>Metric</th>\n",
       "      <th>T-Statistic</th>\n",
       "      <th>P-Value</th>\n",
       "    </tr>\n",
       "  </thead>\n",
       "  <tbody>\n",
       "    <tr>\n",
       "      <th>0</th>\n",
       "      <td>Click Through Rate</td>\n",
       "      <td>-1.978171</td>\n",
       "      <td>0.048184</td>\n",
       "    </tr>\n",
       "    <tr>\n",
       "      <th>1</th>\n",
       "      <td>Conversion Rate</td>\n",
       "      <td>0.474849</td>\n",
       "      <td>0.634998</td>\n",
       "    </tr>\n",
       "    <tr>\n",
       "      <th>2</th>\n",
       "      <td>Bounce Rate</td>\n",
       "      <td>-1.201888</td>\n",
       "      <td>0.229692</td>\n",
       "    </tr>\n",
       "    <tr>\n",
       "      <th>3</th>\n",
       "      <td>Scroll Depth</td>\n",
       "      <td>0.756228</td>\n",
       "      <td>0.449692</td>\n",
       "    </tr>\n",
       "  </tbody>\n",
       "</table>\n",
       "</div>"
      ],
      "text/plain": [
       "               Metric  T-Statistic   P-Value\n",
       "0  Click Through Rate    -1.978171  0.048184\n",
       "1     Conversion Rate     0.474849  0.634998\n",
       "2         Bounce Rate    -1.201888  0.229692\n",
       "3        Scroll Depth     0.756228  0.449692"
      ]
     },
     "execution_count": 6,
     "metadata": {},
     "output_type": "execute_result"
    }
   ],
   "source": [
    "# extracting bounce rates for both themes\n",
    "bounce_rates_light = df[df['Theme'] == 'Light Theme']['Bounce Rate']\n",
    "bounce_rates_dark = df[df['Theme'] == 'Dark Theme']['Bounce Rate']\n",
    "\n",
    "# performing a two-sample t-test for bounce rate\n",
    "t_stat_bounce, p_value_bounce = ttest_ind(bounce_rates_light, bounce_rates_dark, equal_var=False)\n",
    "\n",
    "# extracting scroll depths for both themes\n",
    "scroll_depth_light = df[df['Theme'] == 'Light Theme']['Scroll_Depth']\n",
    "scroll_depth_dark = df[df['Theme'] == 'Dark Theme']['Scroll_Depth']\n",
    "\n",
    "# performing a two-sample t-test for scroll depth\n",
    "t_stat_scroll, p_value_scroll = ttest_ind(scroll_depth_light, scroll_depth_dark, equal_var=False)\n",
    "\n",
    "# creating a table for comparison\n",
    "comparison_table = pd.DataFrame({\n",
    "    'Metric': ['Click Through Rate', 'Conversion Rate', 'Bounce Rate', 'Scroll Depth'],\n",
    "    'T-Statistic': [t_stat_ctr, t_stat, t_stat_bounce, t_stat_scroll],\n",
    "    'P-Value': [p_value_ctr, p_value, p_value_bounce, p_value_scroll]\n",
    "})\n",
    "\n",
    "comparison_table"
   ]
  },
  {
   "cell_type": "markdown",
   "id": "4d6ca433",
   "metadata": {},
   "source": [
    "As showing on the table comparing the performance of the Light Theme and Dark Theme across various metrics based on hypothesis testing:\n",
    "- **Click Through Rate:** The test reveals a statistically significant difference, with the Dark Theme likely performing better (P-Value = 0.048).\n",
    "- **Conversion Rate:** No statistically significant difference was found (P-Value = 0.635).\n",
    "- **Bounce Rate:** No statistically significant difference in Bounce Rates between the themes (P-Value = 0.230).\n",
    "- **Scroll Depth:** No statistically significant difference is observed in Scroll Depths (P-Value = 0.450)."
   ]
  },
  {
   "cell_type": "markdown",
   "id": "e0b21df2",
   "metadata": {},
   "source": [
    "### Summary\n",
    "This concludes that although the two themes show similar performance based on most metrics, the Dark Theme slightly outperforms the Light Thmese n terms of engaging users to click through. the Light Theme and a Dark Theme choice does not significantly affect user behaviour according to the data provided when it comes to other mertics such as Conversion Rate, Bounce Rate, and Scroll Depth\n"
   ]
  },
  {
   "cell_type": "code",
   "execution_count": null,
   "id": "dbb3c86b",
   "metadata": {},
   "outputs": [],
   "source": []
  }
 ],
 "metadata": {
  "kernelspec": {
   "display_name": "Python 3 (ipykernel)",
   "language": "python",
   "name": "python3"
  },
  "language_info": {
   "codemirror_mode": {
    "name": "ipython",
    "version": 3
   },
   "file_extension": ".py",
   "mimetype": "text/x-python",
   "name": "python",
   "nbconvert_exporter": "python",
   "pygments_lexer": "ipython3",
   "version": "3.10.8"
  }
 },
 "nbformat": 4,
 "nbformat_minor": 5
}
